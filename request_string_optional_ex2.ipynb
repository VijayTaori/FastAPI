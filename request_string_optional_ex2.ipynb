{
 "cells": [
  {
   "cell_type": "code",
   "execution_count": null,
   "id": "ce3f01e5",
   "metadata": {},
   "outputs": [],
   "source": [
    "'''\n",
    "pip3 install fastapi httptools==0.1.* uvloop uvicorn\n",
    "Adding dynamic endpoint: Another example\n",
    "'''\n",
    "'''\n",
    "Request string\n",
    "We can choose to have an optional argument.\n",
    "For this we can use the Optional class of the typing library. \n",
    "However, a default value must be provided.\n",
    "'''\n",
    "\n",
    "from fastapi import FastAPI\n",
    "from typing import Optional\n",
    "\n",
    "api = FastAPI(\n",
    "    title='My API'\n",
    ")\n",
    "\n",
    "@api.get('/')\n",
    "def get_index(argument1):\n",
    "    return {'data': argument1}\n",
    "\n",
    "@api.get('/typed')\n",
    "def get_typed(argument1:int):\n",
    "    return {'data': argument1 + 1}\n",
    "    \n",
    "\n",
    "@api.get('/addition')\n",
    "def get_addition(a: int, b: Optional[int]=None):\n",
    "    if b:\n",
    "        result = a + b\n",
    "    else:\n",
    "        result = a + 1\n",
    "    return {\n",
    "        'addition_result': result\n",
    "    }\n",
    "    \n",
    "'''\n",
    "Once this file is saved, run the API in another console by executing the following command :\n",
    "uvicorn name_of_this_file_without_extension:api --reload\n",
    "\n",
    "Here, we specify the main file and the name of the API to run inside this file: api. \n",
    "The argument --reload allows to automatically update the API when changes are made to the source \n",
    "file. \n",
    "In the console, the following line should be observed :\n",
    "INFO: Uvicorn running on http://127.0.0.1:8000(Press CTRL+C to quit)\n",
    "This line gives us the address at which the API works.\n",
    "In another console, issue the following command to query the endpoint / :\n",
    "curl -X GET http://127.0.0.1:8000/   \n",
    "\n",
    "\n",
    "Open the docs endpoint in the browser: http://localhost:8000/docs\n",
    "\n",
    "Open the URL http://localhost:8000/redoc :\n",
    "'''"
   ]
  }
 ],
 "metadata": {
  "kernelspec": {
   "display_name": "Python 3 (ipykernel)",
   "language": "python",
   "name": "python3"
  },
  "language_info": {
   "codemirror_mode": {
    "name": "ipython",
    "version": 3
   },
   "file_extension": ".py",
   "mimetype": "text/x-python",
   "name": "python",
   "nbconvert_exporter": "python",
   "pygments_lexer": "ipython3",
   "version": "3.11.5"
  }
 },
 "nbformat": 4,
 "nbformat_minor": 5
}
