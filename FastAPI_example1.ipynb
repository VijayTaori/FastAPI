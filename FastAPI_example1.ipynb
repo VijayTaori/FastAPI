{
 "cells": [
  {
   "cell_type": "code",
   "execution_count": null,
   "id": "ae98f668",
   "metadata": {},
   "outputs": [],
   "source": [
    "'''\n",
    "pip3 install fastapi httptools==0.1.* uvloop uvicorn\n",
    "\n",
    "'''\n",
    "\n",
    "from fastapi import FastAPI\n",
    "api = FastAPI()\n",
    "@api.get('/')\n",
    "def get_index():\n",
    "    return 'Hello World'\n",
    "\n",
    "'''\n",
    "Same results as Above\n",
    "\n",
    "\n",
    "from fastapi import FastAPI\n",
    "api = FastAPI()\n",
    "@api.get('/')\n",
    "def get_index():\n",
    "    return ('Hello World')\n",
    "\n",
    "\n",
    "'''"
   ]
  }
 ],
 "metadata": {
  "kernelspec": {
   "display_name": "Python 3 (ipykernel)",
   "language": "python",
   "name": "python3"
  },
  "language_info": {
   "codemirror_mode": {
    "name": "ipython",
    "version": 3
   },
   "file_extension": ".py",
   "mimetype": "text/x-python",
   "name": "python",
   "nbconvert_exporter": "python",
   "pygments_lexer": "ipython3",
   "version": "3.11.5"
  }
 },
 "nbformat": 4,
 "nbformat_minor": 5
}
