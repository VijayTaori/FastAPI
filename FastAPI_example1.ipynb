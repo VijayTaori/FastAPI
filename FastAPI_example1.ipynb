{
 "cells": [
  {
   "cell_type": "code",
   "execution_count": null,
   "id": "f565038e",
   "metadata": {},
   "outputs": [],
   "source": [
    "'''\n",
    "pip3 install fastapi httptools==0.1.* uvloop uvicorn\n",
    "\n",
    "'''\n",
    "\n",
    "from fastapi import FastAPI\n",
    "api = FastAPI()\n",
    "@api.get('/')\n",
    "def get_index():\n",
    "    return 'Hello World'\n",
    "\n",
    "'''\n",
    "Same results as Above\n",
    "\n",
    "\n",
    "from fastapi import FastAPI\n",
    "api = FastAPI()\n",
    "@api.get('/')\n",
    "def get_index():\n",
    "    return ('Hello World')\n",
    "\n",
    "'''\n",
    "'''\n",
    "Once this file is saved, run the API in another console by executing the following command :\n",
    "uvicorn name_of_this_file:api --reload\n",
    "\n",
    "Here, we specify the main file and the name of the API to run inside this file: api. \n",
    "The argument --reload allows to automatically update the API when changes are made to the source file. \n",
    "In the console, the following line should be observed :\n",
    "INFO: Uvicorn running on http://127.0.0.1:8000(Press CTRL+C to quit)\n",
    "This line gives us the address at which the API works.\n",
    "In another console, issue the following command to query the endpoint / :\n",
    "curl -X GET http://127.0.0.1:8000/            \n",
    "'''"
   ]
  }
 ],
 "metadata": {
  "kernelspec": {
   "display_name": "Python 3 (ipykernel)",
   "language": "python",
   "name": "python3"
  },
  "language_info": {
   "codemirror_mode": {
    "name": "ipython",
    "version": 3
   },
   "file_extension": ".py",
   "mimetype": "text/x-python",
   "name": "python",
   "nbconvert_exporter": "python",
   "pygments_lexer": "ipython3",
   "version": "3.11.5"
  }
 },
 "nbformat": 4,
 "nbformat_minor": 5
}
